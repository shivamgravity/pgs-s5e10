{
 "cells": [
  {
   "cell_type": "markdown",
   "id": "e756bd23",
   "metadata": {
    "id": "e756bd23"
   },
   "source": [
    "# Auto ML using TPOT\n",
    "\n",
    "This time, I am using Auto ML.\n",
    "Let's see which model will it choose under 10 minutes timeframe."
   ]
  },
  {
   "cell_type": "code",
   "execution_count": 1,
   "id": "ea322d80",
   "metadata": {
    "id": "ea322d80"
   },
   "outputs": [],
   "source": [
    "# import required libraries\n",
    "import sys, os\n",
    "import numpy as np\n",
    "import pandas as pd\n",
    "from sklearn.metrics import mean_squared_error, make_scorer\n",
    "from tpot import TPOTRegressor\n",
    "\n",
    "local_module_path = os.path.abspath(os.path.join(os.path.dirname(os.getcwd()),'preprocess'))\n",
    "sys.path.append(local_module_path)\n",
    "from pscript import preprocess"
   ]
  },
  {
   "cell_type": "code",
   "execution_count": 2,
   "id": "01c6f2a0",
   "metadata": {
    "id": "01c6f2a0"
   },
   "outputs": [],
   "source": [
    "# load the dataset\n",
    "train = pd.read_csv(\"../../../dataset/train.csv\")\n",
    "test = pd.read_csv(\"../../../dataset/test.csv\")"
   ]
  },
  {
   "cell_type": "code",
   "execution_count": 3,
   "id": "6cb9cdad",
   "metadata": {
    "id": "6cb9cdad"
   },
   "outputs": [],
   "source": [
    "# preprocess the datasets\n",
    "ptrain = preprocess(train)\n",
    "ptest = preprocess(test)"
   ]
  },
  {
   "cell_type": "code",
   "execution_count": 4,
   "id": "fa589007",
   "metadata": {
    "id": "fa589007"
   },
   "outputs": [],
   "source": [
    "# ready dataset for training and testing\n",
    "rtrain = ptrain.drop(['id','accident_risk'], axis=1)\n",
    "target = ptrain['accident_risk']\n",
    "\n",
    "rtest = ptest.drop('id', axis=1)"
   ]
  },
  {
   "cell_type": "code",
   "execution_count": 5,
   "id": "5a78f3d6",
   "metadata": {
    "id": "5a78f3d6"
   },
   "outputs": [],
   "source": [
    "# optimization methods\n",
    "def rmse_func(y_true, y_pred):\n",
    "    return np.sqrt(mean_squared_error(y_true, y_pred))\n",
    "\n",
    "rmse_scorer = make_scorer(rmse_func, greater_is_better=False)"
   ]
  },
  {
   "cell_type": "code",
   "execution_count": 6,
   "id": "1a7efdf6",
   "metadata": {
    "id": "1a7efdf6"
   },
   "outputs": [],
   "source": [
    "# initialize the model\n",
    "model = TPOTRegressor(verbose=3, max_eval_time_mins=30, max_time_mins=360, n_jobs=1, scorers=rmse_scorer)"
   ]
  },
  {
   "cell_type": "code",
   "execution_count": null,
   "id": "89c57d68",
   "metadata": {
    "id": "89c57d68"
   },
   "outputs": [],
   "source": [
    "# train the model\n",
    "model.fit(rtrain, target)"
   ]
  },
  {
   "cell_type": "code",
   "execution_count": null,
   "id": "ba0a2c5a",
   "metadata": {},
   "outputs": [],
   "source": [
    "print(model.fitted_pipeline_)"
   ]
  },
  {
   "cell_type": "code",
   "execution_count": 9,
   "id": "85756738",
   "metadata": {
    "id": "85756738"
   },
   "outputs": [],
   "source": [
    "# predict the values\n",
    "preds = model.predict(rtest)"
   ]
  },
  {
   "cell_type": "code",
   "execution_count": 10,
   "id": "86b499be",
   "metadata": {
    "id": "86b499be"
   },
   "outputs": [],
   "source": [
    "prediction = []\n",
    "for x in preds:\n",
    "    prediction.append(round(x,3))"
   ]
  },
  {
   "cell_type": "code",
   "execution_count": 11,
   "id": "02ec3771",
   "metadata": {
    "id": "02ec3771"
   },
   "outputs": [],
   "source": [
    "result = pd.DataFrame({\n",
    "    'id': ptest['id'],\n",
    "    'accident_risk': prediction\n",
    "})"
   ]
  },
  {
   "cell_type": "code",
   "execution_count": 12,
   "id": "2f4415be",
   "metadata": {
    "id": "2f4415be"
   },
   "outputs": [],
   "source": [
    "result.to_csv(\"../submissions/submission04.csv\", index=False)"
   ]
  }
 ],
 "metadata": {
  "colab": {
   "provenance": []
  },
  "kernelspec": {
   "display_name": "Python 3",
   "language": "python",
   "name": "python3"
  },
  "language_info": {
   "codemirror_mode": {
    "name": "ipython",
    "version": 3
   },
   "file_extension": ".py",
   "mimetype": "text/x-python",
   "name": "python",
   "nbconvert_exporter": "python",
   "pygments_lexer": "ipython3",
   "version": "3.13.5"
  }
 },
 "nbformat": 4,
 "nbformat_minor": 5
}
